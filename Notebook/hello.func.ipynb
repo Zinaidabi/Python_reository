{
 "cells": [
  {
   "cell_type": "code",
   "execution_count": 10,
   "metadata": {},
   "outputs": [],
   "source": [
    "# function definition\n",
    "def hi(lang, name):\n",
    "    if lang == \"en\":\n",
    "        print(\"Hello\", \"John!\")\n",
    "    elif lang == \"ro\":\n",
    "        print(\"Salut\", \"Ion!\")\n",
    "    elif lang == \"ru\":\n",
    "        print(\"привет\", \"Vanea!\")\n",
    "\n",
    "# HW1: add second parameter - name (person name)\n",
    "# hi(\"en\", \"John\") -> Hello John!"
   ]
  },
  {
   "cell_type": "code",
   "execution_count": 11,
   "metadata": {},
   "outputs": [
    {
     "name": "stdout",
     "output_type": "stream",
     "text": [
      "Hello John!\n",
      "Salut Ion!\n",
      "привет Vanea!\n"
     ]
    }
   ],
   "source": [
    "# function call\n",
    "hi(\"en\", \"John!\"),\n",
    "hi(\"ro\", \"Ion!\"),\n",
    "hi(\"ru\", \"Vanea!\")"
   ]
  }
 ],
 "metadata": {
  "kernelspec": {
   "display_name": "Python 3",
   "language": "python",
   "name": "python3"
  },
  "language_info": {
   "codemirror_mode": {
    "name": "ipython",
    "version": 3
   },
   "file_extension": ".py",
   "mimetype": "text/x-python",
   "name": "python",
   "nbconvert_exporter": "python",
   "pygments_lexer": "ipython3",
   "version": "3.10.12"
  }
 },
 "nbformat": 4,
 "nbformat_minor": 2
}
